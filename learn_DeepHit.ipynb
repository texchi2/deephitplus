{
  "nbformat": 4,
  "nbformat_minor": 0,
  "metadata": {
    "colab": {
      "name": "learn-DeepHit.ipynb",
      "provenance": [],
      "authorship_tag": "ABX9TyOYD19Xv7Pk2trvqxcTkt8G",
      "include_colab_link": true
    },
    "kernelspec": {
      "name": "python3",
      "display_name": "Python 3"
    }
  },
  "cells": [
    {
      "cell_type": "markdown",
      "metadata": {
        "id": "view-in-github",
        "colab_type": "text"
      },
      "source": [
        "<a href=\"https://colab.research.google.com/github/texchi2/deephitplus/blob/master/learn_DeepHit.ipynb\" target=\"_parent\"><img src=\"https://colab.research.google.com/assets/colab-badge.svg\" alt=\"Open In Colab\"/></a>"
      ]
    },
    {
      "cell_type": "markdown",
      "metadata": {
        "id": "hdwAfuveu_dK"
      },
      "source": [
        "https://github.com/texchi2/deephitplus\n",
        "DeepHit for survival analysis\n",
        " all models: \n",
        "DeepHitPlus, \n",
        "FilterDeepHitPlus, HybridDeepHitPlus, SparseDeepHitPlus, and AttentiveDeepHitPlus."
      ]
    },
    {
      "cell_type": "code",
      "metadata": {
        "colab": {
          "base_uri": "https://localhost:8080/"
        },
        "id": "Ge97A86ru3nj",
        "outputId": "52863860-92b7-42e6-dc64-12635fb9e717"
      },
      "source": [
        "! git clone https://github.com/texchi2/deephitplus.git"
      ],
      "execution_count": 1,
      "outputs": [
        {
          "output_type": "stream",
          "text": [
            "Cloning into 'deephitplus'...\n",
            "remote: Enumerating objects: 112, done.\u001b[K\n",
            "remote: Counting objects: 100% (112/112), done.\u001b[K\n",
            "remote: Compressing objects: 100% (89/89), done.\u001b[K\n",
            "remote: Total 112 (delta 66), reused 57 (delta 21), pack-reused 0\u001b[K\n",
            "Receiving objects: 100% (112/112), 1.26 MiB | 3.08 MiB/s, done.\n",
            "Resolving deltas: 100% (66/66), done.\n"
          ],
          "name": "stdout"
        }
      ]
    }
  ]
}