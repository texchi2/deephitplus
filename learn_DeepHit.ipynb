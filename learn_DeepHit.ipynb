{
  "nbformat": 4,
  "nbformat_minor": 0,
  "metadata": {
    "colab": {
      "name": "learn-DeepHit.ipynb",
      "provenance": [],
      "authorship_tag": "ABX9TyNu4jA/1w8GuIiaa3kO5JUi",
      "include_colab_link": true
    },
    "kernelspec": {
      "name": "python3",
      "display_name": "Python 3"
    }
  },
  "cells": [
    {
      "cell_type": "markdown",
      "metadata": {
        "id": "view-in-github",
        "colab_type": "text"
      },
      "source": [
        "<a href=\"https://colab.research.google.com/github/texchi2/deephitplus/blob/master/learn_DeepHit.ipynb\" target=\"_parent\"><img src=\"https://colab.research.google.com/assets/colab-badge.svg\" alt=\"Open In Colab\"/></a>"
      ]
    },
    {
      "cell_type": "markdown",
      "metadata": {
        "id": "hdwAfuveu_dK"
      },
      "source": [
        "https://github.com/texchi2/deephitplus\n",
        "DeepHit for survival analysis\n",
        " all models: \n",
        "DeepHitPlus, \n",
        "FilterDeepHitPlus, HybridDeepHitPlus, SparseDeepHitPlus, and AttentiveDeepHitPlus.\n",
        "\n",
        "Review article:\n",
        "https://arxiv.org/pdf/2003.01176.pdf"
      ]
    },
    {
      "cell_type": "code",
      "metadata": {
        "colab": {
          "base_uri": "https://localhost:8080/"
        },
        "id": "Ge97A86ru3nj",
        "outputId": "64b6d6f3-b825-4f9c-ce11-f9471c3c1863"
      },
      "source": [
        "! git clone https://github.com/texchi2/deephitplus.git"
      ],
      "execution_count": 1,
      "outputs": [
        {
          "output_type": "stream",
          "text": [
            "Cloning into 'deephitplus'...\n",
            "remote: Enumerating objects: 115, done.\u001b[K\n",
            "remote: Counting objects: 100% (115/115), done.\u001b[K\n",
            "remote: Compressing objects: 100% (92/92), done.\u001b[K\n",
            "remote: Total 115 (delta 67), reused 57 (delta 21), pack-reused 0\u001b[K\n",
            "Receiving objects: 100% (115/115), 1.26 MiB | 14.86 MiB/s, done.\n",
            "Resolving deltas: 100% (67/67), done.\n"
          ],
          "name": "stdout"
        }
      ]
    },
    {
      "cell_type": "code",
      "metadata": {
        "id": "XKWflzUC4nVW"
      },
      "source": [
        ""
      ],
      "execution_count": null,
      "outputs": []
    }
  ]
}